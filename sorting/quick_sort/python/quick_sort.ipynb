{
 "cells": [
  {
   "cell_type": "markdown",
   "metadata": {},
   "source": [
    "# Bubble Sort\n",
    "\n",
    "## Analysis\n",
    "\n",
    "Time Complexity:\n",
    "\n",
    "- $O(TODO)$\n",
    "- $\\Omega(TODO)$\n",
    "- $\\Theta(TODO)$\n",
    "\n",
    "Stability: *TODO*\n"
   ]
  },
  {
   "cell_type": "code",
   "execution_count": 2,
   "metadata": {},
   "outputs": [],
   "source": [
    "import random\n",
    "# generate 12 random integers\n",
    "toSort = [random.randint(0,9) for i in range(12)]"
   ]
  },
  {
   "cell_type": "markdown",
   "metadata": {},
   "source": [
    "Quick Sort is a recursive algorithm with 2 parts: \n",
    "1. Partition\n",
    "1. Sort"
   ]
  },
  {
   "cell_type": "code",
   "execution_count": 9,
   "metadata": {},
   "outputs": [
    {
     "name": "stdout",
     "output_type": "stream",
     "text": [
      "Input array: [0, 9, 8, 7, 9, 8, 1, 5, 5, 4, 2, 3]\n",
      "[0, 9, 8, 7, 9, 8, 1, 5, 5, 4, 2, 3]\n",
      "Sorted array (DESC): None\n",
      "\n"
     ]
    }
   ],
   "source": [
    "# default value -1 refers to last element in the array\n",
    "def quick_sort_hard(array:list[int], ptr_left=0, ptr_right=-1):\n",
    "    \n",
    "\n",
    "    pivot, ptr_left, ptr_right = array[0], array[1], array[len(array)-1]\n",
    "\n",
    "    # pointers refer to indexes, repeat until they are equal\n",
    "    if(ptr_left > ptr_right): \n",
    "        ptr_left, ptr_right = ptr_right, ptr_left\n",
    "        \n",
    "\n",
    "    \n",
    "    # print(pivot)\n",
    "    # print(ptr_left)\n",
    "    # print(ptr_right)\n",
    "    pass\n",
    "\n",
    "print(f'Input array: {toSort}')\n",
    "print(f'Sorted array (DESC): {quick_sort_hard(toSort)}\\n')"
   ]
  },
  {
   "cell_type": "code",
   "execution_count": 23,
   "metadata": {},
   "outputs": [
    {
     "name": "stdout",
     "output_type": "stream",
     "text": [
      "Input array: [0, 9, 8, 7, 9, 8, 1, 5, 5, 4, 2, 3]\n",
      "Sorted array (DESC): [0, 1, 2, 3, 4, 5, 5, 7, 8, 8, 9, 9]\n",
      "\n"
     ]
    }
   ],
   "source": [
    "# repeat recursively: split into array less than, equal and more than pivot \n",
    "def quick_sort(arr:list[int]):\n",
    "    less, plist, more  = [], [], []\n",
    "    \n",
    "    # final condition\n",
    "    if(len(arr) <= 1):\n",
    "        return arr\n",
    "    else:\n",
    "        pivot = arr[0]\n",
    "        for i in arr:\n",
    "            if (i < pivot):\n",
    "                less.append(i)\n",
    "            elif (i > pivot):\n",
    "                more.append(i)\n",
    "            else: \n",
    "                plist.append(i)\n",
    "        less = quick_sort(less)\n",
    "        more = quick_sort(more)\n",
    "        return less + plist + more\n",
    "\n",
    "\n",
    "\n",
    "print(f'Input array: {toSort}')\n",
    "print(f'Sorted array (DESC): {quick_sort(toSort)}\\n')"
   ]
  }
 ],
 "metadata": {
  "interpreter": {
   "hash": "fa464bff28b0d2c7e5fdcaee5193dc4b79046f75ffbd4d69db46283f688736aa"
  },
  "kernelspec": {
   "display_name": "Python 3.9.7 ('base')",
   "language": "python",
   "name": "python3"
  },
  "language_info": {
   "codemirror_mode": {
    "name": "ipython",
    "version": 3
   },
   "file_extension": ".py",
   "mimetype": "text/x-python",
   "name": "python",
   "nbconvert_exporter": "python",
   "pygments_lexer": "ipython3",
   "version": "3.9.7"
  },
  "orig_nbformat": 4
 },
 "nbformat": 4,
 "nbformat_minor": 2
}
