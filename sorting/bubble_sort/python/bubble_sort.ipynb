{
 "cells": [
  {
   "cell_type": "markdown",
   "metadata": {},
   "source": []
  },
  {
   "cell_type": "markdown",
   "metadata": {},
   "source": [
    "# Bubble Sort\n",
    "\n",
    "## Analysis\n",
    "\n",
    "Time Complexity:\n",
    "\n",
    "- $O(n^2)$\n",
    "- $\\Omega(n^2)$\n",
    "- $\\Theta(n^2)$\n",
    "\n",
    "Stability: *Stable*\n"
   ]
  },
  {
   "cell_type": "code",
   "execution_count": 1,
   "metadata": {},
   "outputs": [],
   "source": [
    "import random\n",
    "# generate 12 random integers\n",
    "toSort = [random.randint(0,9) for i in range(12)]"
   ]
  },
  {
   "cell_type": "code",
   "execution_count": 2,
   "metadata": {},
   "outputs": [],
   "source": [
    "def BubbleSort(array:list[int], DESC:bool=False):\n",
    "    print(f'Input array: {array}')\n",
    "\n",
    "    if(DESC):\n",
    "        for i in range(len(array)):\n",
    "            for j in range(len(array)-i-1):          \n",
    "                if(array[j] < array[j+1]): \n",
    "                    array[j], array[j+1] = array[j+1], array[j]\n",
    "    # Sort in ascending \n",
    "    else:\n",
    "        for i in range(len(array)):\n",
    "            for j in range(len(array)-i-1):          \n",
    "                if(array[j] > array[j+1]): \n",
    "                    array[j], array[j+1] = array[j+1], array[j]\n",
    "\n",
    "    return array;"
   ]
  },
  {
   "cell_type": "code",
   "execution_count": 3,
   "metadata": {},
   "outputs": [
    {
     "name": "stdout",
     "output_type": "stream",
     "text": [
      "Input array: [3, 5, 1, 4, 8, 5, 6, 6, 4, 6, 4, 9]\n",
      "Sorted array (DESC): [9, 8, 6, 6, 6, 5, 5, 4, 4, 4, 3, 1]\n",
      "\n",
      "Input array: [9, 8, 6, 6, 6, 5, 5, 4, 4, 4, 3, 1]\n",
      "Sorted array (ASC): [1, 3, 4, 4, 4, 5, 5, 6, 6, 6, 8, 9]\n"
     ]
    }
   ],
   "source": [
    "\n",
    "print(f'Sorted array (DESC): {BubbleSort(toSort, DESC=True)}\\n')\n",
    "print(f'Sorted array (ASC): {BubbleSort(toSort, DESC=False)}')"
   ]
  }
 ],
 "metadata": {
  "interpreter": {
   "hash": "fa464bff28b0d2c7e5fdcaee5193dc4b79046f75ffbd4d69db46283f688736aa"
  },
  "kernelspec": {
   "display_name": "Python 3.9.7 ('base')",
   "language": "python",
   "name": "python3"
  },
  "language_info": {
   "codemirror_mode": {
    "name": "ipython",
    "version": 3
   },
   "file_extension": ".py",
   "mimetype": "text/x-python",
   "name": "python",
   "nbconvert_exporter": "python",
   "pygments_lexer": "ipython3",
   "version": "3.9.7"
  },
  "orig_nbformat": 4
 },
 "nbformat": 4,
 "nbformat_minor": 2
}
