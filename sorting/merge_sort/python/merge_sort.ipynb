{
 "cells": [
  {
   "cell_type": "markdown",
   "metadata": {},
   "source": [
    "# Merge Sort\n",
    "\n",
    "[visual](https://www.youtube.com/watch?v=JSceec-wEyw)\n",
    "\n",
    "## Analysis\n",
    "\n",
    "Time Complexity:\n",
    "\n",
    "- $O(TODO)$\n",
    "- $\\Omega(TODO)$\n",
    "- $\\Theta(TODO)$\n",
    "\n",
    "Stability: *TODO*\n"
   ]
  },
  {
   "cell_type": "code",
   "execution_count": 1,
   "metadata": {},
   "outputs": [],
   "source": [
    "import random\n",
    "# generate 12 random integers\n",
    "toSort = [random.randint(0,9) for i in range(12)]"
   ]
  },
  {
   "cell_type": "code",
   "execution_count": null,
   "metadata": {},
   "outputs": [],
   "source": [
    "\n",
    "def merge_sort(arr:list[int]):\n",
    "    arr.sort()\n",
    "\n",
    "    return \n",
    "\n",
    "merge_sort()\n",
    "\n"
   ]
  }
 ],
 "metadata": {
  "interpreter": {
   "hash": "fa464bff28b0d2c7e5fdcaee5193dc4b79046f75ffbd4d69db46283f688736aa"
  },
  "kernelspec": {
   "display_name": "Python 3.9.7 ('base')",
   "language": "python",
   "name": "python3"
  },
  "language_info": {
   "codemirror_mode": {
    "name": "ipython",
    "version": 3
   },
   "file_extension": ".py",
   "mimetype": "text/x-python",
   "name": "python",
   "nbconvert_exporter": "python",
   "pygments_lexer": "ipython3",
   "version": "3.9.7"
  },
  "orig_nbformat": 4
 },
 "nbformat": 4,
 "nbformat_minor": 2
}
